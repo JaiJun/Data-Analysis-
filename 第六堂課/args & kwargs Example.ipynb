{
 "cells": [
  {
   "cell_type": "code",
   "execution_count": 2,
   "metadata": {
    "ExecuteTime": {
     "end_time": "2021-12-16T10:38:35.332837Z",
     "start_time": "2021-12-16T10:38:35.309019Z"
    },
    "code_folding": []
   },
   "outputs": [
    {
     "name": "stdout",
     "output_type": "stream",
     "text": [
      "a=1\n",
      "Optional argument: 22\n",
      "Optional argument: 33\n",
      "a=1\n",
      "Optional argument: 22\n",
      "Optional argument: 33\n",
      "Optional kwargs argument key: k1 value 44\n",
      "Optional kwargs argument key: k2 value 55\n"
     ]
    }
   ],
   "source": [
    "def Test_args(a, *args):\n",
    "    print(\"a={}\".format(a))\n",
    "#     print(type(args))\n",
    "    for arg in args:\n",
    "        print('Optional argument: {}'.format( arg ) )\n",
    "def Test_args_kwargs(a, *args, **kwargs):\n",
    "    print(\"a={}\".format(a))\n",
    "    for arg in args:\n",
    "        print('Optional argument: {}'.format( arg ) )\n",
    "\n",
    "    for k, v in kwargs.items():\n",
    "        print('Optional kwargs argument key: {} value {}'.format(k, v))\n",
    "Test_args(1,22,33)\n",
    "Test_args_kwargs(1,22,33, k1=44, k2=55)"
   ]
  }
 ],
 "metadata": {
  "kernelspec": {
   "display_name": "Django Shell-Plus",
   "language": "python",
   "name": "django_extensions"
  },
  "language_info": {
   "codemirror_mode": {
    "name": "ipython",
    "version": 3
   },
   "file_extension": ".py",
   "mimetype": "text/x-python",
   "name": "python",
   "nbconvert_exporter": "python",
   "pygments_lexer": "ipython3",
   "version": "3.8.1"
  },
  "toc": {
   "base_numbering": 1,
   "nav_menu": {},
   "number_sections": true,
   "sideBar": true,
   "skip_h1_title": false,
   "title_cell": "Table of Contents",
   "title_sidebar": "Contents",
   "toc_cell": false,
   "toc_position": {},
   "toc_section_display": true,
   "toc_window_display": false
  }
 },
 "nbformat": 4,
 "nbformat_minor": 2
}
