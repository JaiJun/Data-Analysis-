{
 "cells": [
  {
   "cell_type": "markdown",
   "metadata": {},
   "source": [
    "# 簡訊內容處理字串方法\n",
    "## pandas.Series.str\n",
    "* pandas.core.strings.StringMethods 的別名\n",
    "* Pandas 提供許多處理字串函式\n",
    "\n",
    "<br>\n",
    "資料網址：https://raw.githubusercontent.com/Code-Gym/python-dataset/master/msg.txt"
   ]
  },
  {
   "cell_type": "code",
   "execution_count": 3,
   "metadata": {
    "ExecuteTime": {
     "end_time": "2021-12-23T04:48:08.201077Z",
     "start_time": "2021-12-23T04:48:07.559037Z"
    }
   },
   "outputs": [
    {
     "data": {
      "text/html": [
       "<div>\n",
       "<style scoped>\n",
       "    .dataframe tbody tr th:only-of-type {\n",
       "        vertical-align: middle;\n",
       "    }\n",
       "\n",
       "    .dataframe tbody tr th {\n",
       "        vertical-align: top;\n",
       "    }\n",
       "\n",
       "    .dataframe thead th {\n",
       "        text-align: right;\n",
       "    }\n",
       "</style>\n",
       "<table border=\"1\" class=\"dataframe\">\n",
       "  <thead>\n",
       "    <tr style=\"text-align: right;\">\n",
       "      <th></th>\n",
       "      <th>status</th>\n",
       "      <th>msg</th>\n",
       "    </tr>\n",
       "  </thead>\n",
       "  <tbody>\n",
       "    <tr>\n",
       "      <th>0</th>\n",
       "      <td>ham</td>\n",
       "      <td>Go until jurong point, crazy.. Available only ...</td>\n",
       "    </tr>\n",
       "    <tr>\n",
       "      <th>1</th>\n",
       "      <td>ham</td>\n",
       "      <td>Ok lar... Joking wif u oni...</td>\n",
       "    </tr>\n",
       "    <tr>\n",
       "      <th>2</th>\n",
       "      <td>spam</td>\n",
       "      <td>Free entry in 2 a wkly comp to win FA Cup fina...</td>\n",
       "    </tr>\n",
       "    <tr>\n",
       "      <th>3</th>\n",
       "      <td>ham</td>\n",
       "      <td>U dun say so early hor... U c already then say...</td>\n",
       "    </tr>\n",
       "    <tr>\n",
       "      <th>4</th>\n",
       "      <td>ham</td>\n",
       "      <td>Nah I don't think he goes to usf, he lives aro...</td>\n",
       "    </tr>\n",
       "    <tr>\n",
       "      <th>...</th>\n",
       "      <td>...</td>\n",
       "      <td>...</td>\n",
       "    </tr>\n",
       "    <tr>\n",
       "      <th>5567</th>\n",
       "      <td>spam</td>\n",
       "      <td>This is the 2nd time we have tried 2 contact u...</td>\n",
       "    </tr>\n",
       "    <tr>\n",
       "      <th>5568</th>\n",
       "      <td>ham</td>\n",
       "      <td>Will ü b going to esplanade fr home?</td>\n",
       "    </tr>\n",
       "    <tr>\n",
       "      <th>5569</th>\n",
       "      <td>ham</td>\n",
       "      <td>Pity, * was in mood for that. So...any other s...</td>\n",
       "    </tr>\n",
       "    <tr>\n",
       "      <th>5570</th>\n",
       "      <td>ham</td>\n",
       "      <td>The guy did some bitching but I acted like i'd...</td>\n",
       "    </tr>\n",
       "    <tr>\n",
       "      <th>5571</th>\n",
       "      <td>ham</td>\n",
       "      <td>Rofl. Its true to its name</td>\n",
       "    </tr>\n",
       "  </tbody>\n",
       "</table>\n",
       "<p>5572 rows × 2 columns</p>\n",
       "</div>"
      ],
      "text/plain": [
       "     status                                                msg\n",
       "0       ham  Go until jurong point, crazy.. Available only ...\n",
       "1       ham                      Ok lar... Joking wif u oni...\n",
       "2      spam  Free entry in 2 a wkly comp to win FA Cup fina...\n",
       "3       ham  U dun say so early hor... U c already then say...\n",
       "4       ham  Nah I don't think he goes to usf, he lives aro...\n",
       "...     ...                                                ...\n",
       "5567   spam  This is the 2nd time we have tried 2 contact u...\n",
       "5568    ham               Will ü b going to esplanade fr home?\n",
       "5569    ham  Pity, * was in mood for that. So...any other s...\n",
       "5570    ham  The guy did some bitching but I acted like i'd...\n",
       "5571    ham                         Rofl. Its true to its name\n",
       "\n",
       "[5572 rows x 2 columns]"
      ]
     },
     "metadata": {},
     "output_type": "display_data"
    }
   ],
   "source": [
    "import pandas as pd\n",
    "df = pd.read_csv('https://raw.githubusercontent.com/Code-Gym/python-dataset/master/msg.txt',\n",
    "                  sep='\\t',\n",
    "                  names=['status', 'msg'])\n",
    "display(df)"
   ]
  },
  {
   "cell_type": "markdown",
   "metadata": {},
   "source": [
    "## 處理字串基本函式\n",
    "* upper\n",
    "* lower\n",
    "* title\n",
    "* len\n",
    "* replace\n",
    "* split"
   ]
  },
  {
   "cell_type": "code",
   "execution_count": 4,
   "metadata": {
    "ExecuteTime": {
     "end_time": "2021-12-23T04:49:12.125726Z",
     "start_time": "2021-12-23T04:49:12.095710Z"
    }
   },
   "outputs": [
    {
     "data": {
      "text/plain": [
       "0        HAM\n",
       "1        HAM\n",
       "2       SPAM\n",
       "3        HAM\n",
       "4        HAM\n",
       "        ... \n",
       "5567    SPAM\n",
       "5568     HAM\n",
       "5569     HAM\n",
       "5570     HAM\n",
       "5571     HAM\n",
       "Name: status, Length: 5572, dtype: object"
      ]
     },
     "execution_count": 4,
     "metadata": {},
     "output_type": "execute_result"
    }
   ],
   "source": [
    "#轉字串為大寫\n",
    "df['status'].str.upper()"
   ]
  },
  {
   "cell_type": "markdown",
   "metadata": {},
   "source": [
    "## Python 也有處理字串的函式\n",
    "確認你要處理的資料是Pandas的Series物件，還是Python的字串物件<br>\n",
    "Python 處理字串的函式：https://www.w3schools.com/python/python_ref_string.asp"
   ]
  },
  {
   "cell_type": "code",
   "execution_count": 5,
   "metadata": {
    "ExecuteTime": {
     "end_time": "2021-12-23T04:50:46.562934Z",
     "start_time": "2021-12-23T04:50:46.552859Z"
    }
   },
   "outputs": [
    {
     "data": {
      "text/plain": [
       "'GO UNTIL JURONG POINT, CRAZY.. AVAILABLE ONLY IN BUGIS N GREAT WORLD LA E BUFFET... CINE THERE GOT AMORE WAT...'"
      ]
     },
     "execution_count": 5,
     "metadata": {},
     "output_type": "execute_result"
    }
   ],
   "source": [
    "df['msg'][0].upper()"
   ]
  },
  {
   "cell_type": "markdown",
   "metadata": {},
   "source": [
    "### 函式title( )\n",
    "第一個英文字母大寫"
   ]
  },
  {
   "cell_type": "code",
   "execution_count": 6,
   "metadata": {
    "ExecuteTime": {
     "end_time": "2021-12-23T04:52:54.918031Z",
     "start_time": "2021-12-23T04:52:54.903042Z"
    }
   },
   "outputs": [
    {
     "data": {
      "text/plain": [
       "0       Go Until Jurong Point, Crazy.. Available Only ...\n",
       "1                           Ok Lar... Joking Wif U Oni...\n",
       "2       Free Entry In 2 A Wkly Comp To Win Fa Cup Fina...\n",
       "3       U Dun Say So Early Hor... U C Already Then Say...\n",
       "4       Nah I Don'T Think He Goes To Usf, He Lives Aro...\n",
       "                              ...                        \n",
       "5567    This Is The 2Nd Time We Have Tried 2 Contact U...\n",
       "5568                 Will Ü B Going To Esplanade Fr Home?\n",
       "5569    Pity, * Was In Mood For That. So...Any Other S...\n",
       "5570    The Guy Did Some Bitching But I Acted Like I'D...\n",
       "5571                           Rofl. Its True To Its Name\n",
       "Name: msg, Length: 5572, dtype: object"
      ]
     },
     "execution_count": 6,
     "metadata": {},
     "output_type": "execute_result"
    }
   ],
   "source": [
    "df['msg'].str.title()"
   ]
  },
  {
   "cell_type": "markdown",
   "metadata": {},
   "source": [
    "### 函式len( )\n",
    "字串長度"
   ]
  },
  {
   "cell_type": "code",
   "execution_count": 7,
   "metadata": {
    "ExecuteTime": {
     "end_time": "2021-12-23T04:53:01.481326Z",
     "start_time": "2021-12-23T04:53:01.460333Z"
    }
   },
   "outputs": [
    {
     "data": {
      "text/plain": [
       "0       111\n",
       "1        29\n",
       "2       155\n",
       "3        49\n",
       "4        61\n",
       "       ... \n",
       "5567    160\n",
       "5568     36\n",
       "5569     57\n",
       "5570    125\n",
       "5571     26\n",
       "Name: msg, Length: 5572, dtype: int64"
      ]
     },
     "execution_count": 7,
     "metadata": {},
     "output_type": "execute_result"
    }
   ],
   "source": [
    "df['msg'].str.len()"
   ]
  },
  {
   "cell_type": "markdown",
   "metadata": {},
   "source": [
    "### 函式replace( )\n",
    "replace('ham', 'not spam')"
   ]
  },
  {
   "cell_type": "code",
   "execution_count": 8,
   "metadata": {
    "ExecuteTime": {
     "end_time": "2021-12-23T04:53:29.278143Z",
     "start_time": "2021-12-23T04:53:29.263001Z"
    }
   },
   "outputs": [
    {
     "data": {
      "text/plain": [
       "0       not spam\n",
       "1       not spam\n",
       "2           spam\n",
       "3       not spam\n",
       "4       not spam\n",
       "          ...   \n",
       "5567        spam\n",
       "5568    not spam\n",
       "5569    not spam\n",
       "5570    not spam\n",
       "5571    not spam\n",
       "Name: status, Length: 5572, dtype: object"
      ]
     },
     "execution_count": 8,
     "metadata": {},
     "output_type": "execute_result"
    }
   ],
   "source": [
    "df['status'].str.replace('ham', 'not spam')"
   ]
  },
  {
   "cell_type": "markdown",
   "metadata": {},
   "source": [
    "### 函式split( )\n",
    "分隔字串"
   ]
  },
  {
   "cell_type": "code",
   "execution_count": 16,
   "metadata": {},
   "outputs": [
    {
     "data": {
      "text/plain": [
       "' b'"
      ]
     },
     "execution_count": 16,
     "metadata": {},
     "output_type": "execute_result"
    }
   ],
   "source": [
    "'a, b, c'.split(',')[1]"
   ]
  },
  {
   "cell_type": "code",
   "execution_count": 10,
   "metadata": {
    "ExecuteTime": {
     "end_time": "2021-12-23T04:53:45.917492Z",
     "start_time": "2021-12-23T04:53:45.873946Z"
    }
   },
   "outputs": [
    {
     "data": {
      "text/plain": [
       "0       [Go until jurong point,  crazy.. Available onl...\n",
       "1                         [Ok lar... Joking wif u oni...]\n",
       "2       [Free entry in 2 a wkly comp to win FA Cup fin...\n",
       "3       [U dun say so early hor... U c already then sa...\n",
       "4       [Nah I don't think he goes to usf,  he lives a...\n",
       "                              ...                        \n",
       "5567    [This is the 2nd time we have tried 2 contact ...\n",
       "5568               [Will ü b going to esplanade fr home?]\n",
       "5569    [Pity,  * was in mood for that. So...any other...\n",
       "5570    [The guy did some bitching but I acted like i'...\n",
       "5571                         [Rofl. Its true to its name]\n",
       "Name: msg, Length: 5572, dtype: object"
      ]
     },
     "execution_count": 10,
     "metadata": {},
     "output_type": "execute_result"
    }
   ],
   "source": [
    "df['msg'].str.split(',')"
   ]
  },
  {
   "cell_type": "code",
   "execution_count": null,
   "metadata": {},
   "outputs": [],
   "source": []
  }
 ],
 "metadata": {
  "kernelspec": {
   "display_name": "Python 3",
   "language": "python",
   "name": "python3"
  },
  "language_info": {
   "codemirror_mode": {
    "name": "ipython",
    "version": 3
   },
   "file_extension": ".py",
   "mimetype": "text/x-python",
   "name": "python",
   "nbconvert_exporter": "python",
   "pygments_lexer": "ipython3",
   "version": "3.8.1"
  },
  "toc": {
   "base_numbering": 1,
   "nav_menu": {},
   "number_sections": true,
   "sideBar": true,
   "skip_h1_title": false,
   "title_cell": "Table of Contents",
   "title_sidebar": "Contents",
   "toc_cell": false,
   "toc_position": {},
   "toc_section_display": true,
   "toc_window_display": false
  }
 },
 "nbformat": 4,
 "nbformat_minor": 2
}
