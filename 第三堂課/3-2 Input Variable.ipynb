{
 "cells": [
  {
   "cell_type": "markdown",
   "metadata": {},
   "source": [
    "# 變數與輸入文字"
   ]
  },
  {
   "cell_type": "markdown",
   "metadata": {},
   "source": [
    "### 變數\n",
    "宣告一個name的變數，並且宣告變數的值為你的名字。\n",
    "![](https://i.imgur.com/GRq6C59.jpg)\n",
    ">程式語言中**等號**的意思是，將等號右邊的值傳給左邊的變數。"
   ]
  },
  {
   "cell_type": "code",
   "execution_count": 1,
   "metadata": {
    "ExecuteTime": {
     "end_time": "2022-01-02T07:03:17.514983Z",
     "start_time": "2022-01-02T07:03:17.496261Z"
    }
   },
   "outputs": [
    {
     "name": "stdout",
     "output_type": "stream",
     "text": [
      "ChiaChun\n"
     ]
    }
   ],
   "source": [
    "name = 'ChiaChun'\n",
    "print(name)"
   ]
  },
  {
   "cell_type": "markdown",
   "metadata": {},
   "source": [
    "***\n",
    "### 請輸入你的名字(name)，並且列印出來\n",
    "Python 輸入文字的方式\n",
    "    \n",
    "    input('提示使用者要輸入的文字內容')"
   ]
  },
  {
   "cell_type": "code",
   "execution_count": 2,
   "metadata": {
    "ExecuteTime": {
     "end_time": "2022-01-02T07:03:23.784452Z",
     "start_time": "2022-01-02T07:03:20.901969Z"
    }
   },
   "outputs": [
    {
     "name": "stdout",
     "output_type": "stream",
     "text": [
      "請輸入你的名字ChiaChun\n",
      "ChiaChun\n"
     ]
    }
   ],
   "source": [
    "name = input('請輸入你的名字')\n",
    "print(name)"
   ]
  },
  {
   "cell_type": "markdown",
   "metadata": {},
   "source": [
    "***\n",
    "### 請輸入你的性別(gender)和年齡(age)"
   ]
  },
  {
   "cell_type": "code",
   "execution_count": 3,
   "metadata": {
    "ExecuteTime": {
     "end_time": "2022-01-02T07:03:33.302731Z",
     "start_time": "2022-01-02T07:03:26.192500Z"
    }
   },
   "outputs": [
    {
     "name": "stdout",
     "output_type": "stream",
     "text": [
      "請輸入你的性別：男生\n",
      "男生\n",
      "請輸入你的年齡：15\n",
      "15\n"
     ]
    }
   ],
   "source": [
    "gender = input('請輸入你的性別：')\n",
    "print(gender)\n",
    "age = input('請輸入你的年齡：')\n",
    "print(age)"
   ]
  },
  {
   "cell_type": "markdown",
   "metadata": {},
   "source": [
    "***\n",
    "### 常用語法\n",
    "* 註解\n",
    "* 多個字串連結\n",
    "* 字串單引號和雙引號"
   ]
  },
  {
   "cell_type": "code",
   "execution_count": 11,
   "metadata": {
    "ExecuteTime": {
     "end_time": "2022-01-02T07:05:55.084468Z",
     "start_time": "2022-01-02T07:05:55.067602Z"
    }
   },
   "outputs": [
    {
     "name": "stdout",
     "output_type": "stream",
     "text": [
      "我是ChiaChun\n",
      "我是ChiaChun\n"
     ]
    }
   ],
   "source": [
    "# 這是註解，不會被執行\n",
    "print(\"我是\" + \"ChiaChun\")\n",
    "print('我是' + 'ChiaChun')"
   ]
  }
 ],
 "metadata": {
  "kernelspec": {
   "display_name": "Python 3",
   "language": "python",
   "name": "python3"
  },
  "language_info": {
   "codemirror_mode": {
    "name": "ipython",
    "version": 3
   },
   "file_extension": ".py",
   "mimetype": "text/x-python",
   "name": "python",
   "nbconvert_exporter": "python",
   "pygments_lexer": "ipython3",
   "version": "3.8.1"
  },
  "toc": {
   "base_numbering": 1,
   "nav_menu": {},
   "number_sections": true,
   "sideBar": true,
   "skip_h1_title": false,
   "title_cell": "Table of Contents",
   "title_sidebar": "Contents",
   "toc_cell": false,
   "toc_position": {},
   "toc_section_display": true,
   "toc_window_display": false
  }
 },
 "nbformat": 4,
 "nbformat_minor": 2
}
