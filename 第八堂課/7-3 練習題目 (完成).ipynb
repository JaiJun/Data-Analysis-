{
 "cells": [
  {
   "cell_type": "markdown",
   "metadata": {
    "heading_collapsed": true
   },
   "source": [
    "# 練習\n",
    "### 餐廳來客數資料分析\n",
    "資料連結：https://raw.githubusercontent.com/Code-Gym/python-dataset/master/RestaurantVisitors.csv"
   ]
  },
  {
   "cell_type": "code",
   "execution_count": 10,
   "metadata": {
    "ExecuteTime": {
     "end_time": "2021-12-19T15:32:22.310120Z",
     "start_time": "2021-12-19T15:32:21.893690Z"
    },
    "hidden": true
   },
   "outputs": [
    {
     "data": {
      "text/html": [
       "<div>\n",
       "<style scoped>\n",
       "    .dataframe tbody tr th:only-of-type {\n",
       "        vertical-align: middle;\n",
       "    }\n",
       "\n",
       "    .dataframe tbody tr th {\n",
       "        vertical-align: top;\n",
       "    }\n",
       "\n",
       "    .dataframe thead th {\n",
       "        text-align: right;\n",
       "    }\n",
       "</style>\n",
       "<table border=\"1\" class=\"dataframe\">\n",
       "  <thead>\n",
       "    <tr style=\"text-align: right;\">\n",
       "      <th></th>\n",
       "      <th>date</th>\n",
       "      <th>weekday</th>\n",
       "      <th>holiday</th>\n",
       "      <th>holiday_name</th>\n",
       "      <th>rest1</th>\n",
       "      <th>rest2</th>\n",
       "      <th>rest3</th>\n",
       "      <th>rest4</th>\n",
       "      <th>total</th>\n",
       "    </tr>\n",
       "  </thead>\n",
       "  <tbody>\n",
       "    <tr>\n",
       "      <th>0</th>\n",
       "      <td>1/1/2016</td>\n",
       "      <td>Friday</td>\n",
       "      <td>1</td>\n",
       "      <td>New Year's Day</td>\n",
       "      <td>65.0</td>\n",
       "      <td>25.0</td>\n",
       "      <td>67.0</td>\n",
       "      <td>139.0</td>\n",
       "      <td>296.0</td>\n",
       "    </tr>\n",
       "    <tr>\n",
       "      <th>1</th>\n",
       "      <td>1/2/2016</td>\n",
       "      <td>Saturday</td>\n",
       "      <td>0</td>\n",
       "      <td>na</td>\n",
       "      <td>24.0</td>\n",
       "      <td>39.0</td>\n",
       "      <td>43.0</td>\n",
       "      <td>85.0</td>\n",
       "      <td>191.0</td>\n",
       "    </tr>\n",
       "    <tr>\n",
       "      <th>2</th>\n",
       "      <td>1/3/2016</td>\n",
       "      <td>Sunday</td>\n",
       "      <td>0</td>\n",
       "      <td>na</td>\n",
       "      <td>24.0</td>\n",
       "      <td>31.0</td>\n",
       "      <td>66.0</td>\n",
       "      <td>81.0</td>\n",
       "      <td>202.0</td>\n",
       "    </tr>\n",
       "    <tr>\n",
       "      <th>3</th>\n",
       "      <td>1/4/2016</td>\n",
       "      <td>Monday</td>\n",
       "      <td>0</td>\n",
       "      <td>na</td>\n",
       "      <td>23.0</td>\n",
       "      <td>18.0</td>\n",
       "      <td>32.0</td>\n",
       "      <td>32.0</td>\n",
       "      <td>105.0</td>\n",
       "    </tr>\n",
       "    <tr>\n",
       "      <th>4</th>\n",
       "      <td>1/5/2016</td>\n",
       "      <td>Tuesday</td>\n",
       "      <td>0</td>\n",
       "      <td>na</td>\n",
       "      <td>2.0</td>\n",
       "      <td>15.0</td>\n",
       "      <td>38.0</td>\n",
       "      <td>43.0</td>\n",
       "      <td>98.0</td>\n",
       "    </tr>\n",
       "  </tbody>\n",
       "</table>\n",
       "</div>"
      ],
      "text/plain": [
       "       date   weekday  holiday    holiday_name  rest1  rest2  rest3  rest4  \\\n",
       "0  1/1/2016    Friday        1  New Year's Day   65.0   25.0   67.0  139.0   \n",
       "1  1/2/2016  Saturday        0              na   24.0   39.0   43.0   85.0   \n",
       "2  1/3/2016    Sunday        0              na   24.0   31.0   66.0   81.0   \n",
       "3  1/4/2016    Monday        0              na   23.0   18.0   32.0   32.0   \n",
       "4  1/5/2016   Tuesday        0              na    2.0   15.0   38.0   43.0   \n",
       "\n",
       "   total  \n",
       "0  296.0  \n",
       "1  191.0  \n",
       "2  202.0  \n",
       "3  105.0  \n",
       "4   98.0  "
      ]
     },
     "execution_count": 10,
     "metadata": {},
     "output_type": "execute_result"
    }
   ],
   "source": [
    "import pandas as pd\n",
    "\n",
    "df = pd.read_csv('https://raw.githubusercontent.com/Code-Gym/python-dataset/master/RestaurantVisitors.csv',sep=',')\n",
    "df.head()"
   ]
  },
  {
   "cell_type": "markdown",
   "metadata": {
    "hidden": true
   },
   "source": [
    "## 將date欄位轉為DatetimeIndex"
   ]
  },
  {
   "cell_type": "code",
   "execution_count": 11,
   "metadata": {
    "ExecuteTime": {
     "end_time": "2021-12-19T15:32:24.182931Z",
     "start_time": "2021-12-19T15:32:24.143722Z"
    },
    "hidden": true
   },
   "outputs": [
    {
     "data": {
      "text/html": [
       "<div>\n",
       "<style scoped>\n",
       "    .dataframe tbody tr th:only-of-type {\n",
       "        vertical-align: middle;\n",
       "    }\n",
       "\n",
       "    .dataframe tbody tr th {\n",
       "        vertical-align: top;\n",
       "    }\n",
       "\n",
       "    .dataframe thead th {\n",
       "        text-align: right;\n",
       "    }\n",
       "</style>\n",
       "<table border=\"1\" class=\"dataframe\">\n",
       "  <thead>\n",
       "    <tr style=\"text-align: right;\">\n",
       "      <th></th>\n",
       "      <th>date</th>\n",
       "      <th>weekday</th>\n",
       "      <th>holiday</th>\n",
       "      <th>holiday_name</th>\n",
       "      <th>rest1</th>\n",
       "      <th>rest2</th>\n",
       "      <th>rest3</th>\n",
       "      <th>rest4</th>\n",
       "      <th>total</th>\n",
       "    </tr>\n",
       "    <tr>\n",
       "      <th>date</th>\n",
       "      <th></th>\n",
       "      <th></th>\n",
       "      <th></th>\n",
       "      <th></th>\n",
       "      <th></th>\n",
       "      <th></th>\n",
       "      <th></th>\n",
       "      <th></th>\n",
       "      <th></th>\n",
       "    </tr>\n",
       "  </thead>\n",
       "  <tbody>\n",
       "    <tr>\n",
       "      <th>2016-01-01</th>\n",
       "      <td>1/1/2016</td>\n",
       "      <td>Friday</td>\n",
       "      <td>1</td>\n",
       "      <td>New Year's Day</td>\n",
       "      <td>65.0</td>\n",
       "      <td>25.0</td>\n",
       "      <td>67.0</td>\n",
       "      <td>139.0</td>\n",
       "      <td>296.0</td>\n",
       "    </tr>\n",
       "    <tr>\n",
       "      <th>2016-01-02</th>\n",
       "      <td>1/2/2016</td>\n",
       "      <td>Saturday</td>\n",
       "      <td>0</td>\n",
       "      <td>na</td>\n",
       "      <td>24.0</td>\n",
       "      <td>39.0</td>\n",
       "      <td>43.0</td>\n",
       "      <td>85.0</td>\n",
       "      <td>191.0</td>\n",
       "    </tr>\n",
       "    <tr>\n",
       "      <th>2016-01-03</th>\n",
       "      <td>1/3/2016</td>\n",
       "      <td>Sunday</td>\n",
       "      <td>0</td>\n",
       "      <td>na</td>\n",
       "      <td>24.0</td>\n",
       "      <td>31.0</td>\n",
       "      <td>66.0</td>\n",
       "      <td>81.0</td>\n",
       "      <td>202.0</td>\n",
       "    </tr>\n",
       "    <tr>\n",
       "      <th>2016-01-04</th>\n",
       "      <td>1/4/2016</td>\n",
       "      <td>Monday</td>\n",
       "      <td>0</td>\n",
       "      <td>na</td>\n",
       "      <td>23.0</td>\n",
       "      <td>18.0</td>\n",
       "      <td>32.0</td>\n",
       "      <td>32.0</td>\n",
       "      <td>105.0</td>\n",
       "    </tr>\n",
       "    <tr>\n",
       "      <th>2016-01-05</th>\n",
       "      <td>1/5/2016</td>\n",
       "      <td>Tuesday</td>\n",
       "      <td>0</td>\n",
       "      <td>na</td>\n",
       "      <td>2.0</td>\n",
       "      <td>15.0</td>\n",
       "      <td>38.0</td>\n",
       "      <td>43.0</td>\n",
       "      <td>98.0</td>\n",
       "    </tr>\n",
       "  </tbody>\n",
       "</table>\n",
       "</div>"
      ],
      "text/plain": [
       "                date   weekday  holiday    holiday_name  rest1  rest2  rest3  \\\n",
       "date                                                                           \n",
       "2016-01-01  1/1/2016    Friday        1  New Year's Day   65.0   25.0   67.0   \n",
       "2016-01-02  1/2/2016  Saturday        0              na   24.0   39.0   43.0   \n",
       "2016-01-03  1/3/2016    Sunday        0              na   24.0   31.0   66.0   \n",
       "2016-01-04  1/4/2016    Monday        0              na   23.0   18.0   32.0   \n",
       "2016-01-05  1/5/2016   Tuesday        0              na    2.0   15.0   38.0   \n",
       "\n",
       "            rest4  total  \n",
       "date                      \n",
       "2016-01-01  139.0  296.0  \n",
       "2016-01-02   85.0  191.0  \n",
       "2016-01-03   81.0  202.0  \n",
       "2016-01-04   32.0  105.0  \n",
       "2016-01-05   43.0   98.0  "
      ]
     },
     "execution_count": 11,
     "metadata": {},
     "output_type": "execute_result"
    }
   ],
   "source": [
    "df.index = pd.to_datetime(df['date'])\n",
    "df.head()"
   ]
  },
  {
   "cell_type": "markdown",
   "metadata": {
    "heading_collapsed": true
   },
   "source": [
    "# 第一間餐廳rest1，每週來客數總和多少？"
   ]
  },
  {
   "cell_type": "code",
   "execution_count": 12,
   "metadata": {
    "ExecuteTime": {
     "end_time": "2021-12-19T15:32:27.260210Z",
     "start_time": "2021-12-19T15:32:27.243202Z"
    },
    "hidden": true,
    "scrolled": true
   },
   "outputs": [
    {
     "name": "stderr",
     "output_type": "stream",
     "text": [
      "<ipython-input-12-d4ac04e77da6>:1: FutureWarning: weekofyear and week have been deprecated, please use DatetimeIndex.isocalendar().week instead, which returns a Series.  To exactly reproduce the behavior of week and weekofyear and return an Index, you may call pd.Int64Index(idx.isocalendar().week)\n",
      "  df['week'] = df.index.week\n"
     ]
    },
    {
     "data": {
      "text/plain": [
       "week\n",
       "1     409.0\n",
       "2     403.0\n",
       "3     518.0\n",
       "4     493.0\n",
       "5     576.0\n",
       "6     524.0\n",
       "7     481.0\n",
       "8     630.0\n",
       "9     545.0\n",
       "10    618.0\n",
       "11    592.0\n",
       "12    534.0\n",
       "13    558.0\n",
       "14    554.0\n",
       "15    512.0\n",
       "16    513.0\n",
       "17    299.0\n",
       "18    208.0\n",
       "19    172.0\n",
       "20    221.0\n",
       "21    231.0\n",
       "22    223.0\n",
       "23    262.0\n",
       "24    364.0\n",
       "25    357.0\n",
       "26    284.0\n",
       "27    340.0\n",
       "28    282.0\n",
       "29    258.0\n",
       "30    267.0\n",
       "31    249.0\n",
       "32    211.0\n",
       "33    207.0\n",
       "34    220.0\n",
       "35    235.0\n",
       "36    290.0\n",
       "37    231.0\n",
       "38    272.0\n",
       "39    208.0\n",
       "40    280.0\n",
       "41    252.0\n",
       "42    234.0\n",
       "43    254.0\n",
       "44    297.0\n",
       "45    255.0\n",
       "46    246.0\n",
       "47    294.0\n",
       "48    226.0\n",
       "49    225.0\n",
       "50    274.0\n",
       "51    303.0\n",
       "52    337.0\n",
       "53    113.0\n",
       "Name: rest1, dtype: float64"
      ]
     },
     "metadata": {},
     "output_type": "display_data"
    }
   ],
   "source": [
    "df['week'] = df.index.week\n",
    "rest1_sum = df.groupby('week').rest1.sum()\n",
    "display(rest1_sum)"
   ]
  },
  {
   "cell_type": "markdown",
   "metadata": {
    "hidden": true
   },
   "source": [
    "## 假日四間餐廳平均來客數\n",
    "提示：\n",
    "* 使用欄位Holiday找出假日資料\n",
    "* 使用loc過濾四間餐廳的來客數\n",
    "* 最後算出平均值"
   ]
  },
  {
   "cell_type": "code",
   "execution_count": 22,
   "metadata": {
    "ExecuteTime": {
     "end_time": "2021-12-19T15:35:23.564176Z",
     "start_time": "2021-12-19T15:35:23.547172Z"
    },
    "hidden": true
   },
   "outputs": [
    {
     "data": {
      "text/plain": [
       "rest1    48.56250\n",
       "rest2    33.15625\n",
       "rest3    43.65625\n",
       "rest4    68.34375\n",
       "dtype: float64"
      ]
     },
     "execution_count": 22,
     "metadata": {},
     "output_type": "execute_result"
    }
   ],
   "source": [
    "#依照holiday 欄位作為判斷\n",
    "holiday_df = df[df.holiday == 1]\n",
    "holiday_df.loc[:,\"rest1\":\"rest4\"].mean()"
   ]
  },
  {
   "cell_type": "code",
   "execution_count": 27,
   "metadata": {
    "ExecuteTime": {
     "end_time": "2021-12-19T15:39:12.226167Z",
     "start_time": "2021-12-19T15:39:12.210075Z"
    },
    "hidden": true
   },
   "outputs": [
    {
     "data": {
      "text/plain": [
       "rest1    52.679612\n",
       "rest2    36.281553\n",
       "rest3    45.747573\n",
       "rest4    51.077670\n",
       "dtype: float64"
      ]
     },
     "execution_count": 27,
     "metadata": {},
     "output_type": "execute_result"
    }
   ],
   "source": [
    "#但真正假日有 Friday、Saturday、Sunday\n",
    "day_df = df[(df.weekday == \"Friday\") | (df.weekday == \"Saturday\") | (df.weekday == \"Sunday\")]\n",
    "day_df.loc[:,\"rest1\":\"rest4\"].mean()"
   ]
  },
  {
   "cell_type": "markdown",
   "metadata": {
    "hidden": true
   },
   "source": [
    "## 非假日四間餐廳平均來客數"
   ]
  },
  {
   "cell_type": "code",
   "execution_count": 28,
   "metadata": {
    "ExecuteTime": {
     "end_time": "2021-12-19T15:40:01.235028Z",
     "start_time": "2021-12-19T15:40:01.225035Z"
    },
    "hidden": true
   },
   "outputs": [
    {
     "data": {
      "text/plain": [
       "rest1    36.742152\n",
       "rest2    26.733184\n",
       "rest3    30.679372\n",
       "rest4    35.338565\n",
       "dtype: float64"
      ]
     },
     "execution_count": 28,
     "metadata": {},
     "output_type": "execute_result"
    }
   ],
   "source": [
    "no_holiday_df = df[df.holiday != 1]\n",
    "no_holiday_df.loc[:,\"rest1\":\"rest4\"].mean()"
   ]
  },
  {
   "cell_type": "code",
   "execution_count": 30,
   "metadata": {
    "ExecuteTime": {
     "end_time": "2021-12-19T15:41:22.216846Z",
     "start_time": "2021-12-19T15:41:22.194774Z"
    },
    "hidden": true
   },
   "outputs": [
    {
     "data": {
      "text/plain": [
       "rest1    26.062500\n",
       "rest2    20.257353\n",
       "rest3    20.794118\n",
       "rest4    27.301471\n",
       "dtype: float64"
      ]
     },
     "execution_count": 30,
     "metadata": {},
     "output_type": "execute_result"
    }
   ],
   "source": [
    "No_day_df = df[(df.weekday != \"Friday\") & (df.weekday != \"Saturday\") & (df.weekday != \"Sunday\")]\n",
    "No_day_df.loc[:,\"rest1\":\"rest4\"].mean()"
   ]
  }
 ],
 "metadata": {
  "kernelspec": {
   "display_name": "Python 3",
   "language": "python",
   "name": "python3"
  },
  "language_info": {
   "codemirror_mode": {
    "name": "ipython",
    "version": 3
   },
   "file_extension": ".py",
   "mimetype": "text/x-python",
   "name": "python",
   "nbconvert_exporter": "python",
   "pygments_lexer": "ipython3",
   "version": "3.8.1"
  },
  "toc": {
   "base_numbering": 1,
   "nav_menu": {},
   "number_sections": true,
   "sideBar": true,
   "skip_h1_title": false,
   "title_cell": "Table of Contents",
   "title_sidebar": "Contents",
   "toc_cell": false,
   "toc_position": {},
   "toc_section_display": true,
   "toc_window_display": false
  }
 },
 "nbformat": 4,
 "nbformat_minor": 2
}
