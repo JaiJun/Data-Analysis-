{
 "cells": [
  {
   "cell_type": "markdown",
   "metadata": {},
   "source": [
    "# 實作股價K線圖\n",
    "台積電 TSMC (2330) <br>\n",
    "聯發科 MediaTek (2454) "
   ]
  },
  {
   "cell_type": "code",
   "execution_count": 4,
   "metadata": {
    "ExecuteTime": {
     "end_time": "2021-12-26T16:43:29.936994Z",
     "start_time": "2021-12-26T16:43:27.676098Z"
    },
    "code_folding": [
     4
    ]
   },
   "outputs": [
    {
     "data": {
      "text/html": [
       "<div>\n",
       "<style scoped>\n",
       "    .dataframe tbody tr th:only-of-type {\n",
       "        vertical-align: middle;\n",
       "    }\n",
       "\n",
       "    .dataframe tbody tr th {\n",
       "        vertical-align: top;\n",
       "    }\n",
       "\n",
       "    .dataframe thead th {\n",
       "        text-align: right;\n",
       "    }\n",
       "</style>\n",
       "<table border=\"1\" class=\"dataframe\">\n",
       "  <thead>\n",
       "    <tr style=\"text-align: right;\">\n",
       "      <th></th>\n",
       "      <th>High</th>\n",
       "      <th>Low</th>\n",
       "      <th>Open</th>\n",
       "      <th>Close</th>\n",
       "      <th>Volume</th>\n",
       "      <th>Adj Close</th>\n",
       "    </tr>\n",
       "    <tr>\n",
       "      <th>Date</th>\n",
       "      <th></th>\n",
       "      <th></th>\n",
       "      <th></th>\n",
       "      <th></th>\n",
       "      <th></th>\n",
       "      <th></th>\n",
       "    </tr>\n",
       "  </thead>\n",
       "  <tbody>\n",
       "    <tr>\n",
       "      <th>2021-09-01</th>\n",
       "      <td>614.0</td>\n",
       "      <td>608.0</td>\n",
       "      <td>614.0</td>\n",
       "      <td>613.0</td>\n",
       "      <td>30092045.0</td>\n",
       "      <td>607.425964</td>\n",
       "    </tr>\n",
       "    <tr>\n",
       "      <th>2021-09-02</th>\n",
       "      <td>615.0</td>\n",
       "      <td>607.0</td>\n",
       "      <td>613.0</td>\n",
       "      <td>607.0</td>\n",
       "      <td>24112463.0</td>\n",
       "      <td>601.480530</td>\n",
       "    </tr>\n",
       "    <tr>\n",
       "      <th>2021-09-03</th>\n",
       "      <td>620.0</td>\n",
       "      <td>610.0</td>\n",
       "      <td>610.0</td>\n",
       "      <td>620.0</td>\n",
       "      <td>51562454.0</td>\n",
       "      <td>614.362305</td>\n",
       "    </tr>\n",
       "    <tr>\n",
       "      <th>2021-09-06</th>\n",
       "      <td>638.0</td>\n",
       "      <td>621.0</td>\n",
       "      <td>623.0</td>\n",
       "      <td>631.0</td>\n",
       "      <td>55589014.0</td>\n",
       "      <td>625.262268</td>\n",
       "    </tr>\n",
       "    <tr>\n",
       "      <th>2021-09-07</th>\n",
       "      <td>634.0</td>\n",
       "      <td>623.0</td>\n",
       "      <td>634.0</td>\n",
       "      <td>623.0</td>\n",
       "      <td>26526056.0</td>\n",
       "      <td>617.335022</td>\n",
       "    </tr>\n",
       "  </tbody>\n",
       "</table>\n",
       "</div>"
      ],
      "text/plain": [
       "             High    Low   Open  Close      Volume   Adj Close\n",
       "Date                                                          \n",
       "2021-09-01  614.0  608.0  614.0  613.0  30092045.0  607.425964\n",
       "2021-09-02  615.0  607.0  613.0  607.0  24112463.0  601.480530\n",
       "2021-09-03  620.0  610.0  610.0  620.0  51562454.0  614.362305\n",
       "2021-09-06  638.0  621.0  623.0  631.0  55589014.0  625.262268\n",
       "2021-09-07  634.0  623.0  634.0  623.0  26526056.0  617.335022"
      ]
     },
     "execution_count": 4,
     "metadata": {},
     "output_type": "execute_result"
    }
   ],
   "source": [
    "import pandas as pd\n",
    "import datetime as dt\n",
    "import pandas_datareader as pdr\n",
    "import requests\n",
    "def 設定Header():\n",
    "    headers = {\"Accept\": \"application/json\",\n",
    "           'Accept-Charset': 'ISO-8859-1,utf-8;q=0.7,*;q=0.3',\n",
    "           \"Accept-Encoding\": \"none\",\n",
    "           \"Accept-Language\": \"en-US,en;q = 0.8\",\n",
    "           \"Connection\": \"keep-alive\",\n",
    "           \"Referer\": \"https://cssspritegenerator.com\",\n",
    "           \"User-Agent\": \"Mozilla/5.0 (X11; Linux x86_64) AppleWebKit/537.11 (KHTML,like Gecko) Chrome / 23.0.1271.64Safari / 537.11\"\n",
    "    }\n",
    "    return headers\n",
    "headers = 設定Header()\n",
    "with requests.Session() as s:\n",
    "    s.headers = headers\n",
    "    \n",
    "start = dt.datetime(2021, 9, 1) #開始時間\n",
    "end = dt.datetime(2021, 11, 30) #結束時間\n",
    "df_2330 = pdr.DataReader('2330.TW', 'yahoo', start=start, end=end)\n",
    "df_2454 = pdr.DataReader('2454.TW', 'yahoo', start=start, end=end)\n",
    "df_2330.head()"
   ]
  },
  {
   "cell_type": "markdown",
   "metadata": {},
   "source": [
    "### 台積電 VS 聯發科 股價線圖"
   ]
  },
  {
   "cell_type": "code",
   "execution_count": 5,
   "metadata": {
    "ExecuteTime": {
     "end_time": "2021-12-26T16:58:53.455604Z",
     "start_time": "2021-12-26T16:58:52.926468Z"
    }
   },
   "outputs": [
    {
     "data": {
      "image/png": "[encoded data removed]",
      "text/plain": [
       "<Figure size 720x432 with 1 Axes>"
      ]
     },
     "metadata": {
      "needs_background": "light"
     },
     "output_type": "display_data"
    }
   ],
   "source": [
    "import matplotlib.pyplot as plt\n",
    "from pandas.plotting import register_matplotlib_converters\n",
    "register_matplotlib_converters()\n",
    "\n",
    "fig = plt.figure(figsize=(10, 6))\n",
    "plt.plot(df_2330.Close, label='TSMC')\n",
    "plt.plot(df_2454.Close, label='MediaTek')\n",
    "#loc 標題位置\n",
    "plt.title('TSMC vs MediaTek', loc='center')\n",
    "plt.xlabel('Date')\n",
    "plt.ylabel('Price')\n",
    "plt.grid(True, axis='y')\n",
    "plt.legend()\n",
    "plt.show()"
   ]
  },
  {
   "cell_type": "markdown",
   "metadata": {},
   "source": [
    "### 台積電股價K線圖\n",
    "繪製股價圖表套件 mplfinance <br>\n",
    "Github 網址：https://github.com/matplotlib/mplfinance"
   ]
  },
  {
   "cell_type": "code",
   "execution_count": null,
   "metadata": {},
   "outputs": [],
   "source": []
  },
  {
   "cell_type": "code",
   "execution_count": null,
   "metadata": {},
   "outputs": [],
   "source": []
  }
 ],
 "metadata": {
  "kernelspec": {
   "display_name": "Python 3",
   "language": "python",
   "name": "python3"
  },
  "language_info": {
   "codemirror_mode": {
    "name": "ipython",
    "version": 3
   },
   "file_extension": ".py",
   "mimetype": "text/x-python",
   "name": "python",
   "nbconvert_exporter": "python",
   "pygments_lexer": "ipython3",
   "version": "3.8.1"
  },
  "toc": {
   "base_numbering": 1,
   "nav_menu": {},
   "number_sections": true,
   "sideBar": true,
   "skip_h1_title": false,
   "title_cell": "Table of Contents",
   "title_sidebar": "Contents",
   "toc_cell": false,
   "toc_position": {},
   "toc_section_display": true,
   "toc_window_display": false
  }
 },
 "nbformat": 4,
 "nbformat_minor": 2
}
